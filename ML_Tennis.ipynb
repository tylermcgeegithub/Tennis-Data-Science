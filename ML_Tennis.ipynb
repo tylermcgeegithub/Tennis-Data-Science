{
 "cells": [
  {
   "cell_type": "code",
   "execution_count": 8,
   "metadata": {},
   "outputs": [],
   "source": [
    "import pandas as pd\n",
    "import numpy as np\n",
    "import requests\n",
    "import lxml.html as lh\n",
    "import matplotlib.pyplot as plt\n",
    "import re\n",
    "from selenium import webdriver\n",
    "from selenium.webdriver.common.keys import Keys\n",
    "from selenium.webdriver.support.ui import Select\n",
    "from bs4 import BeautifulSoup as soup\n",
    "\n",
    "%matplotlib inline  "
   ]
  },
  {
   "cell_type": "code",
   "execution_count": 9,
   "metadata": {},
   "outputs": [],
   "source": [
    "def cleanString(a):\n",
    "    b = a.replace('\\t','')\n",
    "    c = b.replace('\\r','')\n",
    "    d = c.replace('\\n','')\n",
    "    return d"
   ]
  },
  {
   "cell_type": "code",
   "execution_count": 10,
   "metadata": {},
   "outputs": [],
   "source": [
    "def webScrapeTable(url, xPathy, rowLength):\n",
    "    ###url = \"https://www.atptour.com/en/rankings/singles\"\n",
    "    ###!!!!!!!!!!!! Inspect the webpage and xpath should be like this '//*[@id=\"pageEventH2hTable\"]/table/tbody/tr'\n",
    "    #Create a handle, page, to handle the contents of the website\n",
    "    page = requests.get(url)\n",
    "    #Store the contents of the website under doc\n",
    "    doc = lh.fromstring(page.content)\n",
    "    #Parse data that are stored between <tr>..</tr> of HTML\n",
    "    tr_elements = doc.xpath(xPathy)\n",
    "    ##\n",
    "    ##\n",
    "    ####Check the length of the first 12 rows\n",
    "    ###[len(T) for T in tr_elements[:12]]\n",
    "    #Create empty list\n",
    "    col=[]\n",
    "    i=0\n",
    "    #For each row, store each first element (header) and an empty list\n",
    "    for t in tr_elements[0]:\n",
    "        i+=1\n",
    "        name=t.text_content()\n",
    "        name = cleanString(name)\n",
    "        #print('%d:\"%s\"' % (i,name))\n",
    "        col.append((name,[]))\n",
    "    ##\n",
    "    ##\n",
    "    #Since out first row is the header, data is stored on the second row onwards\n",
    "    for j in range(1,len(tr_elements)):\n",
    "        #T is our j'th row\n",
    "        T=tr_elements[j]\n",
    "        \n",
    "        i = 0\n",
    "        \n",
    "        #If row is not of size rowLength, the //tr data is not from our table \n",
    "        if len(T)!=rowLength:\n",
    "            if len(T) == rowLength-1:\n",
    "                i = 1\n",
    "                col[0][1].append(0)\n",
    "            else:\n",
    "                continue\n",
    "                #break\n",
    "    \n",
    "        ##i is the index of our column\n",
    "        #i=0\n",
    "    \n",
    "        #Iterate through each element of the row\n",
    "        for t in T.iterchildren():\n",
    "            data=t.text_content() \n",
    "            data = cleanString(data)\n",
    "            #Check if row is empty\n",
    "            if i>0:\n",
    "            #Convert any numerical value to integers\n",
    "                try:\n",
    "                    data=int(data)\n",
    "                except:\n",
    "                    pass\n",
    "            #Append the data to the empty list of the i'th column\n",
    "            \n",
    "            col[i][1].append(data)\n",
    "            #Increment i for the next column\n",
    "            i+=1\n",
    "    ##\n",
    "    ##\n",
    "    #[len(C) for (title,C) in col] Use this to check that each column is the same length\n",
    "    Dict={title:column for (title,column) in col}\n",
    "    df=pd.DataFrame(Dict)\n",
    "    df.head()\n",
    "    return df"
   ]
  },
  {
   "cell_type": "code",
   "execution_count": 11,
   "metadata": {},
   "outputs": [],
   "source": [
    "#Function to run when the dataframe didn't have a header so the header is supposed to be the first row of data\n",
    "def headToData(df):\n",
    "    headList = []\n",
    "    for i in range(len(df.columns)):\n",
    "        value = str(df.columns[i])\n",
    "        headList.append(value)\n",
    "    df.loc[-1] = headList\n",
    "    df.index = df.index+1\n",
    "    df = df.sort_index()\n",
    "    return df\n",
    "#Remember that you still need to rename the columns of the dataframe\n",
    "#You have to do something like this\n",
    "#ThiemZverevdf = headToData(ThiemZverevFunctionCheck)\n",
    "#ThiemZverevdf.columns = ['Year', 'Tournament', 'Surface', 'Round', 'Winner', 'Score']\n",
    "#ThiemZverevdf.head()"
   ]
  },
  {
   "cell_type": "code",
   "execution_count": 12,
   "metadata": {},
   "outputs": [],
   "source": [
    "def h2hpercent(df):\n",
    "    newdf = pd.get_dummies(df['Winner'])\n",
    "    a = newdf.shape\n",
    "    aplayer = 0\n",
    "    bplayer = 0\n",
    "    aplayerName = ''\n",
    "    if a[1] == 1:\n",
    "        aplayer = a[0]\n",
    "        aplayerName = str(newdf.columns[0])\n",
    "        return [aplayer, aplayerName, 'Won all', a[0]]\n",
    "    else:\n",
    "        for i in range(a[0]):\n",
    "            aplayer = aplayer + newdf.iloc[i,0]\n",
    "            bplayer = bplayer + newdf.iloc[i,1]\n",
    "        tot = aplayer + bplayer\n",
    "        apercent = aplayer / tot\n",
    "        bpercent = bplayer / tot\n",
    "        return [apercent, bpercent, tot]\n",
    "#Important note, this spits out player stats based on alphabetical order of first name"
   ]
  },
  {
   "cell_type": "code",
   "execution_count": 13,
   "metadata": {},
   "outputs": [],
   "source": [
    "#Data is in format 0-0, so I'll need to write a function to split this into wins and losses separately\n",
    "def winloss(A):\n",
    "    hyphenLoc = A.index('–')\n",
    "    wins = A[:hyphenLoc]\n",
    "    losses = A[hyphenLoc+1:]\n",
    "    return [wins, losses]"
   ]
  },
  {
   "cell_type": "code",
   "execution_count": 14,
   "metadata": {},
   "outputs": [],
   "source": [
    "#Now we want to scale the wins and losses for relevance based on recency\n",
    "def scaleWins(dfName, dataframeRowName, fromYear, toYear):\n",
    "    rowdf = dfName.loc[[dataframeRowName]]\n",
    "    index1 = rowdf.columns.get_loc(fromYear)\n",
    "    index2 = rowdf.columns.get_loc(toYear)\n",
    "    scaleList = list(range(1,(index2-index1+2)))\n",
    "    scaledWins = 0\n",
    "    scaledLosses = 0\n",
    "    for i in range(index1, index2+1):\n",
    "        rowdfString = rowdf.iloc[0,i]\n",
    "        winlossList = winloss(rowdfString)\n",
    "        scaledWins = scaledWins + scaleList[i]*int(winlossList[0])\n",
    "        scaledLosses = scaledLosses + scaleList[i]*int(winlossList[1])\n",
    "    return [scaledWins, scaledLosses]"
   ]
  },
  {
   "cell_type": "code",
   "execution_count": null,
   "metadata": {},
   "outputs": [],
   "source": [
    "#Lets make dictionaries of tournaments that have happened so far this year\n",
    "TournamentNameDict = {\n",
    "    \"Qatar\": \"https://en.wikipedia.org/wiki/List_of_Australian_Open_men%27s_singles_champions\",\n",
    "    \"Adelaide\": \"https://en.wikipedia.org/wiki/Indian_Wells_Masters\",\n",
    "    \"ASB\": \"https://en.wikipedia.org/wiki/Miami_Open_(tennis)\",\n",
    "    \"Australia\": \"https://en.wikipedia.org/wiki/Monte-Carlo_Masters\",\n",
    "    \"Cordoba\": \"https://en.wikipedia.org/wiki/Madrid_Open_(tennis)\",\n",
    "    \"Tata\": \"https://en.wikipedia.org/wiki/Italian_Open_(tennis)\",\n",
    "    \"Open Sud\": \"https://en.wikipedia.org/wiki/List_of_French_Open_men%27s_singles_champions\",\n",
    "    \"ABN\": \"https://en.wikipedia.org/wiki/List_of_Wimbledon_gentlemen%27s_singles_champions\",\n",
    "    \"NY Open\": \"https://en.wikipedia.org/wiki/Canadian_Open_(tennis)\",\n",
    "    \"Argentina\": \"https://en.wikipedia.org/wiki/Cincinnati_Masters\",\n",
    "    \"Rio\": \"https://en.wikipedia.org/wiki/List_of_US_Open_men%27s_singles_champions\",\n",
    "    \"Open 13\": \"https://en.wikipedia.org/wiki/Shanghai_Masters_(tennis)\",\n",
    "    \"Delray\": \"https://en.wikipedia.org/wiki/Paris_Masters\", \n",
    "    \"Dubai\": \"\",\n",
    "    \"Abierto\": \"\",\n",
    "    \"Chile\":\"\"\n",
    "}\n",
    "\n",
    "#Lets also make a dictionary of XPaths for the tables we are interested in: Winners and Runners Up\n",
    "TournamentWinsDict = {\n",
    "    \"Australia\": '//*[@id=\"mw-content-text\"]/div/table[4]/tbody/tr',\n",
    "    \"Indian Wells\": '//*[@id=\"mw-content-text\"]/div/table[3]/tbody/tr',\n",
    "    \"Miami\": '//*[@id=\"mw-content-text\"]/div/table[5]/tbody/tr',\n",
    "    \"Monte Carlo\": '//*[@id=\"mw-content-text\"]/div/table[2]/tbody/tr',\n",
    "    \"Madrid\": '//*[@id=\"mw-content-text\"]/div/table[2]/tbody/tr',\n",
    "    \"Rome\": '//*[@id=\"mw-content-text\"]/div/table[3]/tbody/tr',\n",
    "    \"French\": '//*[@id=\"mw-content-text\"]/div/table[4]/tbody/tr',\n",
    "    \"Wimbledon\": '//*[@id=\"mw-content-text\"]/div/table[4]/tbody/tr',\n",
    "    \"Rogers Cup\": '//*[@id=\"mw-content-text\"]/div/table[3]/tbody/tr',\n",
    "    \"Cincinnati\": '//*[@id=\"mw-content-text\"]/div/table[3]/tbody/tr',\n",
    "    \"US\": '//*[@id=\"mw-content-text\"]/div/table[4]/tbody/tr',\n",
    "    \"Shanghai\": '//*[@id=\"mw-content-text\"]/div/table[4]/tbody/tr',\n",
    "    \"Paris\": '//*[@id=\"mw-content-text\"]/div/table[2]/tbody/tr',\n",
    "}"
   ]
  },
  {
   "cell_type": "code",
   "execution_count": null,
   "metadata": {},
   "outputs": [],
   "source": [
    "def webScrapeTable(TournName): #url, xPathy, rowLength):\n",
    "    url = TournamentNameDict[TournName]\n",
    "    xPathy = TournamentWinsDict[TournName]\n",
    "    ###!!!!!!!!!!!! Inspect the webpage and xpath should be like this '//*[@id=\"pageEventH2hTable\"]/table/tbody/tr'\n",
    "    #Create a handle, page, to handle the contents of the website\n",
    "    page = requests.get(url)\n",
    "    #Store the contents of the website under doc\n",
    "    doc = lh.fromstring(page.content)\n",
    "    #Parse data that are stored between <tr>..</tr> of HTML\n",
    "    tr_elements = doc.xpath(xPathy)\n",
    "    ##\n",
    "    ##\n",
    "    ####Check the length of the first 12 rows\n",
    "    rowLength = [len(T) for T in tr_elements[0]]\n",
    "    #rowLength = rowLength[0]\n",
    "    #print(rowLength)\n",
    "    rowLength = len(rowLength)\n",
    "    ###[len(T) for T in tr_elements[:12]]\n",
    "    #Create empty list\n",
    "    col=[]\n",
    "    i=0\n",
    "    #For each row, store each first element (header) and an empty list\n",
    "    for t in tr_elements[0]:\n",
    "        i+=1\n",
    "        name=t.text_content()\n",
    "        name = cleanString(name)\n",
    "        #print('%d:\"%s\"' % (i,name))\n",
    "        col.append((name,[]))\n",
    "    ##\n",
    "    ##\n",
    "    #Since out first row is the header, data is stored on the second row onwards\n",
    "    for j in range(1,len(tr_elements)):\n",
    "        #T is our j'th row\n",
    "        T=tr_elements[j]\n",
    "        \n",
    "        i = 0\n",
    "        \n",
    "        #If row is not of size rowLength, the //tr data is not from our table \n",
    "        if len(T)!=rowLength:\n",
    "            if len(T) == rowLength-1:\n",
    "                i = 1\n",
    "                col[0][1].append(0)\n",
    "            else:\n",
    "                continue\n",
    "                #break\n",
    "    \n",
    "        ##i is the index of our column\n",
    "        #i=0\n",
    "    \n",
    "        #Iterate through each element of the row\n",
    "        for t in T.iterchildren():\n",
    "            data=t.text_content() \n",
    "            data = cleanString(data)\n",
    "            #Check if row is empty\n",
    "            if i>0:\n",
    "            #Convert any numerical value to integers\n",
    "                try:\n",
    "                    data=int(data)\n",
    "                except:\n",
    "                    pass\n",
    "            #Append the data to the empty list of the i'th column\n",
    "            \n",
    "            col[i][1].append(data)\n",
    "            #Increment i for the next column\n",
    "            i+=1\n",
    "    ##\n",
    "    ##\n",
    "    #[len(C) for (title,C) in col] Use this to check that each column is the same length\n",
    "    Dict={title:column for (title,column) in col}\n",
    "    df=pd.DataFrame(Dict)\n",
    "    df.head()\n",
    "    return df"
   ]
  },
  {
   "cell_type": "code",
   "execution_count": 178,
   "metadata": {},
   "outputs": [],
   "source": [
    "#Lets make dictionaries of tournaments that have happened so far this year\n",
    "TournamentNameDict = {\n",
    "    \"Qatar\": \"https://www.atptour.com/en/scores/archive/doha/451/2020/results\",\n",
    "    \"Adelaide\": \"https://www.atptour.com/en/scores/archive/adelaide/8998/2020/results\",\n",
    "    \"ASB\": \"https://www.atptour.com/en/scores/archive/auckland/301/2020/results\",\n",
    "    \"Australia\": \"https://www.atptour.com/en/scores/archive/australian-open/580/2020/results\",\n",
    "    \"Cordoba\": \"https://www.atptour.com/en/scores/archive/cordoba/9158/2020/results\",\n",
    "    \"Tata\": \"https://www.atptour.com/en/scores/archive/pune/891/2020/results\",\n",
    "    \"Open Sud\": \"https://www.atptour.com/en/scores/archive/montpellier/375/2020/results\",\n",
    "    \"ABN\": \"https://www.atptour.com/en/scores/archive/rotterdam/407/2020/results\",\n",
    "    \"NY Open\": \"https://www.atptour.com/en/scores/archive/new-york/424/2020/results\",\n",
    "    \"Argentina\": \"https://www.atptour.com/en/scores/archive/buenos-aires/506/2020/results\",\n",
    "    \"Rio\": \"https://www.atptour.com/en/scores/archive/rio-de-janeiro/6932/2020/results\",\n",
    "    \"Open 13\": \"https://www.atptour.com/en/scores/archive/marseille/496/2020/results\",\n",
    "    \"Delray\": \"https://www.atptour.com/en/scores/archive/delray-beach/499/2020/results\", \n",
    "    \"Dubai\": \"https://www.atptour.com/en/scores/archive/dubai/495/2020/results\",\n",
    "    \"Abierto\": \"https://www.atptour.com/en/scores/archive/acapulco/807/2020/results\",\n",
    "    \"Chile\":\"https://www.atptour.com/en/scores/archive/santiago/8996/2020/results\"\n",
    "}\n",
    "\n",
    "#Lets also make a dictionary of XPaths for the tables we are interested in: First Round\n",
    "TournamentWinsDict = {\n",
    "    \"Qatar\": '//*[@id=\"scoresResultsContent\"]/div/table/tbody[5]/tr',\n",
    "    \"Adelaide\": '//*[@id=\"scoresResultsContent\"]/div/table/tbody[5]/tr',\n",
    "    \"ASB\": '//*[@id=\"scoresResultsContent\"]/div/table/tbody[5]/tr',\n",
    "    \"Australia\": '//*[@id=\"scoresResultsContent\"]/div/table/tbody[7]/tr',\n",
    "    \"Cordoba\": '//*[@id=\"scoresResultsContent\"]/div/table/tbody[5]/tr',\n",
    "    \"Tata\": '//*[@id=\"scoresResultsContent\"]/div/table/tbody[5]/tr',\n",
    "    \"Open Sud\": '//*[@id=\"scoresResultsContent\"]/div/table/tbody[5]/tr',\n",
    "    \"ABN\": '//*[@id=\"scoresResultsContent\"]/div/table/tbody[5]/tr',\n",
    "    \"NY Open\": '//*[@id=\"scoresResultsContent\"]/div/table/tbody[5]/tr',\n",
    "    \"Argentina\": '//*[@id=\"scoresResultsContent\"]/div/table/tbody[5]/tr',\n",
    "    \"Rio\": '//*[@id=\"scoresResultsContent\"]/div/table/tbody[5]/tr',\n",
    "    \"Open 13\": '//*[@id=\"scoresResultsContent\"]/div/table/tbody[5]/tr',\n",
    "    \"Delray\": '//*[@id=\"scoresResultsContent\"]/div/table/tbody[5]/tr',\n",
    "    \"Dubai\":'//*[@id=\"scoresResultsContent\"]/div/table/tbody[5]/tr',\n",
    "    \"Abierto\":'//*[@id=\"scoresResultsContent\"]/div/table/tbody[5]/tr',\n",
    "    \"Chile\":'//*[@id=\"scoresResultsContent\"]/div/table/tbody[5]/tr'\n",
    "}"
   ]
  },
  {
   "cell_type": "code",
   "execution_count": 74,
   "metadata": {},
   "outputs": [
    {
     "data": {
      "text/html": [
       "<div>\n",
       "<style scoped>\n",
       "    .dataframe tbody tr th:only-of-type {\n",
       "        vertical-align: middle;\n",
       "    }\n",
       "\n",
       "    .dataframe tbody tr th {\n",
       "        vertical-align: top;\n",
       "    }\n",
       "\n",
       "    .dataframe thead th {\n",
       "        text-align: right;\n",
       "    }\n",
       "</style>\n",
       "<table border=\"1\" class=\"dataframe\">\n",
       "  <thead>\n",
       "    <tr style=\"text-align: right;\">\n",
       "      <th></th>\n",
       "      <th>P1 Name</th>\n",
       "      <th>P2 Name</th>\n",
       "    </tr>\n",
       "  </thead>\n",
       "  <tbody>\n",
       "    <tr>\n",
       "      <td>0</td>\n",
       "      <td>Juan Ignac...</td>\n",
       "      <td>Federico C...</td>\n",
       "    </tr>\n",
       "    <tr>\n",
       "      <td>1</td>\n",
       "      <td>Hugo Delli...</td>\n",
       "      <td>Marco Cecc...</td>\n",
       "    </tr>\n",
       "    <tr>\n",
       "      <td>2</td>\n",
       "      <td>Federico D...</td>\n",
       "      <td>Martin Kli...</td>\n",
       "    </tr>\n",
       "    <tr>\n",
       "      <td>3</td>\n",
       "      <td>Thiago Mon...</td>\n",
       "      <td>Leonardo M...</td>\n",
       "    </tr>\n",
       "    <tr>\n",
       "      <td>4</td>\n",
       "      <td>Marcelo To...</td>\n",
       "      <td>Carlos Tab...</td>\n",
       "    </tr>\n",
       "  </tbody>\n",
       "</table>\n",
       "</div>"
      ],
      "text/plain": [
       "                                             P1 Name  \\\n",
       "0                                      Juan Ignac...   \n",
       "1                                      Hugo Delli...   \n",
       "2                                      Federico D...   \n",
       "3                                      Thiago Mon...   \n",
       "4                                      Marcelo To...   \n",
       "\n",
       "                                             P2 Name  \n",
       "0                                      Federico C...  \n",
       "1                                      Marco Cecc...  \n",
       "2                                      Martin Kli...  \n",
       "3                                      Leonardo M...  \n",
       "4                                      Carlos Tab...  "
      ]
     },
     "execution_count": 74,
     "metadata": {},
     "output_type": "execute_result"
    }
   ],
   "source": [
    "url = \"https://www.atptour.com/en/scores/archive/santiago/8996/2020/results\"\n",
    "pathy = '//*[@id=\"scoresResultsContent\"]/div/table/tbody[5]/tr'\n",
    "rowLen = 10\n",
    "testdf = webScrapeTable(url, pathy, rowLen)\n",
    "Tourndf = headToData(testdf)\n",
    "Tourndf.columns = ['BS', 'P1 Seeding', 'P1 Name', 'Defeats', 'P2 Seeding', 'P2 Name', 'Score', 'BS2', 'BS3']\n",
    "Tourndf = Tourndf[['P1 Name', 'P2 Name']]\n",
    "Tourndf.head()"
   ]
  },
  {
   "cell_type": "code",
   "execution_count": null,
   "metadata": {},
   "outputs": [],
   "source": [
    "playSet = list(set().union(WinNames, FinalNames))"
   ]
  },
  {
   "cell_type": "code",
   "execution_count": 92,
   "metadata": {
    "scrolled": true
   },
   "outputs": [],
   "source": [
    "playSet = []\n",
    "namesList = ['ABN','Dubai', 'Abierto'\n",
    "            ]\n",
    "for i in range(len(namesList)):\n",
    "    name = namesList[i]\n",
    "    url = TournamentNameDict[name]\n",
    "    pathy = TournamentWinsDict[name]\n",
    "    rowLen = 10\n",
    "    testdf = webScrapeTable(url, pathy, rowLen)\n",
    "    Tourndf = headToData(testdf)\n",
    "    Tourndf.columns = ['BS', 'P1 Seeding', 'P1 Name', 'Defeats', 'P2 Seeding', 'P2 Name', 'Score', 'BS2', 'BS3']\n",
    "    Tourndf = Tourndf[['P1 Name', 'P2 Name']]\n",
    "    WinNames = Tourndf[\"P1 Name\"].values\n",
    "    FinalNames = Tourndf[\"P2 Name\"].values\n",
    "    playSet = set().union(playSet, WinNames, FinalNames)\n",
    "    "
   ]
  },
  {
   "cell_type": "code",
   "execution_count": 149,
   "metadata": {},
   "outputs": [
    {
     "data": {
      "text/plain": [
       "'Nikoloz Basilashvili'"
      ]
     },
     "execution_count": 149,
     "metadata": {},
     "output_type": "execute_result"
    }
   ],
   "source": [
    "#playList = list(playSet)\n",
    "#for i in range(len(playList)):\n",
    "#    playList[i] = playList[i].strip()\n",
    "#len(playList)\n",
    "playList[1]"
   ]
  },
  {
   "cell_type": "code",
   "execution_count": 151,
   "metadata": {},
   "outputs": [],
   "source": [
    "playDict = {\n",
    "    playList[0]:\"https://www.atptour.com/en/players/grigor-dimitrov/d875/overview\",\n",
    "    playList[1]:\"https://www.atptour.com/en/players/nikoloz-basilashvili/bg23/overview\",\n",
    "    playList[2]:\"https://www.atptour.com/en/players/malek-jaziri/j267/overview\",\n",
    "    playList[3]:\"https://www.atptour.com/en/players/yen-hsun-lu/l575/overview\",\n",
    "    playList[4]:\"https://www.atptour.com/en/players/frances-tiafoe/td51/overview\",\n",
    "    playList[5]:\"https://www.atptour.com/en/players/alex-de-minaur/dh58/overview\",\n",
    "    playList[6]:\"https://www.atptour.com/en/players/mohamed-safwat/sk47/overview\",\n",
    "    playList[7]:\"https://www.atptour.com/en/players/felix-auger-aliassime/ag37/overview\",\n",
    "    playList[8]:\"https://www.atptour.com/en/players/john-millman/mh30/overview\",\n",
    "    playList[9]:\"https://www.atptour.com/en/players/daniel-evans/e687/overview\",\n",
    "    playList[10]:\"https://www.atptour.com/en/players/daniil-medvedev/mm58/overview\",\n",
    "    playList[11]:\"https://www.atptour.com/en/players/denis-shapovalov/su55/overview\",\n",
    "    playList[12]:\"https://www.atptour.com/en/players/jason-jung/j380/overview\",\n",
    "    playList[13]:\"https://www.atptour.com/en/players/pierre-hugues-herbert/h996/overview\",\n",
    "    playList[14]:\"https://www.atptour.com/en/players/jannik-sinner/s0ag/overview\",\n",
    "    playList[15]:\"https://www.atptour.com/en/players/tommy-paul/pl56/overview\",\n",
    "    playList[16]:\"https://www.atptour.com/en/players/robin-haase/h756/overview\",\n",
    "    playList[17]:\"https://www.atptour.com/en/players/dusan-lajovic/l987/overview\",\n",
    "    playList[18]:\"https://www.atptour.com/en/players/richard-gasquet/g628/overview\",\n",
    "    playList[19]:\"https://www.atptour.com/en/players/karen-khachanov/ke29/overview\",\n",
    "    playList[20]:\"https://www.atptour.com/en/players/ricardas-berankis/be90/overview\",\n",
    "    playList[21]:\"https://www.atptour.com/en/players/vasek-pospisil/pd07/overview\",\n",
    "    playList[22]:\"https://www.atptour.com/en/players/marin-cilic/c977/overview\",\n",
    "    playList[23]:\"https://www.atptour.com/en/players/aljaz-bedene/bh09/overview\",\n",
    "    playList[24]:\"https://www.atptour.com/en/players/alexander-bublik/bk92/overview\",\n",
    "    playList[25]:\"https://www.atptour.com/en/players/lorenzo-musetti/m0ej/overview\",\n",
    "    playList[26]:\"https://www.atptour.com/en/players/novak-djokovic/d643/overview\",\n",
    "    playList[27]:\"https://www.atptour.com/en/players/gilles-simon/sd32/overview\",\n",
    "    playList[28]:\"https://www.atptour.com/en/players/john-isner/i186/overview\",\n",
    "    playList[29]:\"https://www.atptour.com/en/players/radu-albot/a829/overview\",\n",
    "    playList[30]:\"https://www.atptour.com/en/players/feliciano-lopez/l397/overview\",\n",
    "    playList[31]:\"https://www.atptour.com/en/players/stefanos-tsitsipas/te51/overview\",\n",
    "    playList[32]:\"https://www.atptour.com/en/players/mackenzie-mcdonald/mk66/overview\",\n",
    "    playList[33]:\"https://www.atptour.com/en/players/miomir-kecmanovic/ki95/overview\",\n",
    "    playList[34]:\"https://www.atptour.com/en/players/hubert-hurkacz/hb71/overview\",\n",
    "    playList[35]:\"https://www.atptour.com/en/players/roberto-bautista-agut/bd06/overview\",\n",
    "    playList[36]:\"https://www.atptour.com/en/players/mischa-zverev/z168/overview\",\n",
    "    playList[37]:\"https://www.atptour.com/en/players/gael-monfils/mc65/overview\",\n",
    "    playList[38]:\"https://www.atptour.com/en/players/nick-kyrgios/ke17/overview\",\n",
    "    playList[39]:\"https://www.atptour.com/en/players/jan-lennard-struff/sl28/overview\",\n",
    "    playList[40]:\"https://www.atptour.com/en/players/benoit-paire/pd31/overview\",\n",
    "    playList[41]:\"https://www.atptour.com/en/players/yoshihito-nishioka/n732/overview\",\n",
    "    playList[42]:\"https://www.atptour.com/en/players/gregoire-barrere/bk24/overview\",\n",
    "    playList[43]:\"https://www.atptour.com/en/players/marcos-giron/gc88/overview\",\n",
    "    playList[44]:\"https://www.atptour.com/en/players/taro-daniel/da81/overview\",\n",
    "    playList[45]:\"https://www.atptour.com/en/players/philipp-kohlschreiber/k435/overview\",\n",
    "    playList[46]:\"https://www.atptour.com/en/players/prajnesh-gunneswaran/ga94/overview\",\n",
    "    playList[47]:\"https://www.atptour.com/en/players/ugo-humbert/hh26/overview\",\n",
    "    playList[48]:\"https://www.atptour.com/en/players/andrey-rublev/re44/overview\",\n",
    "    playList[49]:\"https://www.atptour.com/en/players/adrian-mannarino/me82/overview\",\n",
    "    playList[50]:\"https://www.atptour.com/en/players/kyle-edmund/e831/overview\",\n",
    "    playList[51]:\"https://www.atptour.com/en/players/filip-krajinovic/kb05/overview\",\n",
    "    playList[52]:\"https://www.atptour.com/en/players/marton-fucsovics/f724/overview\",\n",
    "    playList[53]:\"https://www.atptour.com/en/players/soonwoo-kwon/kf17/overview\",\n",
    "    playList[54]:\"https://www.atptour.com/en/players/yasutaka-uchiyama/u134/overview\",\n",
    "    playList[55]:\"https://www.atptour.com/en/players/rafael-nadal/n409/overview\",\n",
    "    playList[56]:\"https://www.atptour.com/en/players/pedro-martinez/mo44/overview\",\n",
    "    playList[57]:\"https://www.atptour.com/en/players/dennis-novak/db59/overview\",\n",
    "    playList[58]:\"https://www.atptour.com/en/players/damir-dzumhur/d923/overview\",\n",
    "    playList[59]:\"https://www.atptour.com/en/players/gerardo-lopez-villasenor/lg87/overview\",\n",
    "    playList[60]:\"https://www.atptour.com/en/players/taylor-fritz/fb98/overview\",\n",
    "    playList[61]:\"https://www.atptour.com/en/players/joao-sousa/sh90/overview\",\n",
    "    playList[62]:\"https://www.atptour.com/en/players/pablo-andujar/a596/overview\",\n",
    "    playList[63]:\"https://www.atptour.com/en/players/alexander-zverev/z355/overview\",\n",
    "    playList[64]:\"https://www.atptour.com/en/players/tallon-griekspoor/gj37/overview\",\n",
    "    playList[65]:\"https://www.atptour.com/en/players/pablo-carreno-busta/cd85/overview\",\n",
    "    playList[66]:\"https://www.atptour.com/en/players/steve-johnson/j386/overview\",\n",
    "    playList[67]:\"https://www.atptour.com/en/players/david-goffin/gb88/overview\",\n",
    "    playList[68]:\"https://www.atptour.com/en/players/stan-wawrinka/w367/overview\",\n",
    "    playList[69]:\"https://www.atptour.com/en/players/cameron-norrie/n771/overview\",\n",
    "    playList[70]:\"https://www.atptour.com/en/players/mikhail-kukushkin/k926/overview\",\n",
    "    playList[71]:\"https://www.atptour.com/en/players/alex-bolt/bi81/overview\",\n",
    "    playList[72]:\"https://www.atptour.com/en/players/lloyd-harris/hg86/overview\",\n",
    "    playList[73]:\"https://www.atptour.com/en/players/fabio-fognini/f510/overview\",\n",
    "}"
   ]
  },
  {
   "cell_type": "code",
   "execution_count": 161,
   "metadata": {},
   "outputs": [],
   "source": [
    "playerStatdf = pd.DataFrame(columns=['Name', 'YTDTitles',\"CareerTitles\", 'CurrentRank', 'MaxRank', 'YTDWins', 'CareerWins'])\n",
    "i = 0\n",
    "for name in playList:\n",
    "    url = playDict[name]\n",
    "    pathy = '//*[@id=\"playersStatsTable\"]/tbody/tr[1]'\n",
    "    pathy2 = '//*[@id=\"playersStatsTable\"]/tbody/tr[2]'\n",
    "    rowLen = 0\n",
    "    df = webScrapeTable(url, pathy, rowLen)\n",
    "    newRow = [name, df.columns[5], df.columns[2], df.columns[4]]\n",
    "    df = webScrapeTable(url, pathy2, rowLen)\n",
    "    newRow.insert(2, df.columns[3])\n",
    "    newRow.insert(4, df.columns[1])\n",
    "    newRow.insert(6, df.columns[2])\n",
    "    #newdf = pd.DataFrame(newRow, columns = ['Name', 'YTDTitles',\"CareerTitles\", 'CurrentRank', 'MaxRank', 'YTDWins', 'CareerWins'], index = [i])\n",
    "    #newdf = pd.DataFrame(newRow, columns = ['Name', 'YTDTitles',\"CareerTitles\", 'CurrentRank', 'MaxRank', 'YTDWins', 'CareerWins'], index=['a'])\n",
    "    #playerStatdf.append()\n",
    "    playerStatdf.loc[name] = newRow\n",
    "    #playerStatdf.append(pd.Series(newRow, index = playerStatdf.columns), ignore_index=True)\n",
    "    #i+=1\n",
    "    #dfObj.append(pd.Series(['Raju', 21, 'Bangalore', 'India'], index=dfObj.columns ), ignore_index=True)\n",
    "    \n",
    "    "
   ]
  },
  {
   "cell_type": "code",
   "execution_count": 176,
   "metadata": {},
   "outputs": [],
   "source": [
    "#74 rows, 7 columns\n",
    "for i in range(74):\n",
    "    for j in range(7):\n",
    "        playerStatdf.iloc[i][j] = str(playerStatdf.iloc[i][j]).strip()\n",
    "        if j == 1:\n",
    "            Tloc = str(playerStatdf.iloc[i][j]).index('T')\n",
    "            playerStatdf.iloc[i][j] = str(playerStatdf.iloc[i][j])[:Tloc]\n",
    "        if j == 2:\n",
    "            Tloc = str(playerStatdf.iloc[i][j]).index('T')\n",
    "            playerStatdf.iloc[i][j] = str(playerStatdf.iloc[i][j])[:Tloc]\n",
    "        if j == 3:\n",
    "            Rloc = str(playerStatdf.iloc[i][j]).index('R')\n",
    "            playerStatdf.iloc[i][j] = str(playerStatdf.iloc[i][j])[:Rloc]\n",
    "        if j == 4:\n",
    "            Cloc = str(playerStatdf.iloc[i][j]).index('C')\n",
    "            playerStatdf.iloc[i][j] = str(playerStatdf.iloc[i][j])[:Cloc]\n",
    "        if j == 5:\n",
    "            hyloc = str(playerStatdf.iloc[i][j]).index('-')\n",
    "            playerStatdf.iloc[i][j] = str(playerStatdf.iloc[i][j])[:hyloc]\n",
    "        if j == 6:\n",
    "            hyloc = str(playerStatdf.iloc[i][j]).index('-')\n",
    "            playerStatdf.iloc[i][j] = str(playerStatdf.iloc[i][j])[:hyloc]"
   ]
  },
  {
   "cell_type": "code",
   "execution_count": 177,
   "metadata": {},
   "outputs": [
    {
     "data": {
      "text/html": [
       "<div>\n",
       "<style scoped>\n",
       "    .dataframe tbody tr th:only-of-type {\n",
       "        vertical-align: middle;\n",
       "    }\n",
       "\n",
       "    .dataframe tbody tr th {\n",
       "        vertical-align: top;\n",
       "    }\n",
       "\n",
       "    .dataframe thead th {\n",
       "        text-align: right;\n",
       "    }\n",
       "</style>\n",
       "<table border=\"1\" class=\"dataframe\">\n",
       "  <thead>\n",
       "    <tr style=\"text-align: right;\">\n",
       "      <th></th>\n",
       "      <th>Name</th>\n",
       "      <th>YTDTitles</th>\n",
       "      <th>CareerTitles</th>\n",
       "      <th>CurrentRank</th>\n",
       "      <th>MaxRank</th>\n",
       "      <th>YTDWins</th>\n",
       "      <th>CareerWins</th>\n",
       "    </tr>\n",
       "  </thead>\n",
       "  <tbody>\n",
       "    <tr>\n",
       "      <td>Grigor Dimitrov</td>\n",
       "      <td>Grigor Dimitrov</td>\n",
       "      <td>0</td>\n",
       "      <td>8</td>\n",
       "      <td>19</td>\n",
       "      <td>3</td>\n",
       "      <td>7</td>\n",
       "      <td>311</td>\n",
       "    </tr>\n",
       "    <tr>\n",
       "      <td>Nikoloz Basilashvili</td>\n",
       "      <td>Nikoloz Basilashvili</td>\n",
       "      <td>0</td>\n",
       "      <td>3</td>\n",
       "      <td>27</td>\n",
       "      <td>16</td>\n",
       "      <td>3</td>\n",
       "      <td>97</td>\n",
       "    </tr>\n",
       "    <tr>\n",
       "      <td>Malek Jaziri</td>\n",
       "      <td>Malek Jaziri</td>\n",
       "      <td>0</td>\n",
       "      <td>0</td>\n",
       "      <td>259</td>\n",
       "      <td>42</td>\n",
       "      <td>0</td>\n",
       "      <td>97</td>\n",
       "    </tr>\n",
       "    <tr>\n",
       "      <td>Yen-Hsun Lu</td>\n",
       "      <td>Yen-Hsun Lu</td>\n",
       "      <td>0</td>\n",
       "      <td>0</td>\n",
       "      <td>966</td>\n",
       "      <td>33</td>\n",
       "      <td>0</td>\n",
       "      <td>161</td>\n",
       "    </tr>\n",
       "    <tr>\n",
       "      <td>Frances Tiafoe</td>\n",
       "      <td>Frances Tiafoe</td>\n",
       "      <td>0</td>\n",
       "      <td>1</td>\n",
       "      <td>81</td>\n",
       "      <td>29</td>\n",
       "      <td>2</td>\n",
       "      <td>62</td>\n",
       "    </tr>\n",
       "  </tbody>\n",
       "</table>\n",
       "</div>"
      ],
      "text/plain": [
       "                                      Name YTDTitles CareerTitles CurrentRank  \\\n",
       "Grigor Dimitrov            Grigor Dimitrov         0            8          19   \n",
       "Nikoloz Basilashvili  Nikoloz Basilashvili         0            3          27   \n",
       "Malek Jaziri                  Malek Jaziri         0            0         259   \n",
       "Yen-Hsun Lu                    Yen-Hsun Lu         0            0         966   \n",
       "Frances Tiafoe              Frances Tiafoe         0            1          81   \n",
       "\n",
       "                     MaxRank YTDWins CareerWins  \n",
       "Grigor Dimitrov            3       7        311  \n",
       "Nikoloz Basilashvili      16       3         97  \n",
       "Malek Jaziri              42       0         97  \n",
       "Yen-Hsun Lu               33       0        161  \n",
       "Frances Tiafoe            29       2         62  "
      ]
     },
     "execution_count": 177,
     "metadata": {},
     "output_type": "execute_result"
    }
   ],
   "source": [
    "playerStatdf.head()"
   ]
  },
  {
   "cell_type": "code",
   "execution_count": null,
   "metadata": {},
   "outputs": [],
   "source": []
  },
  {
   "cell_type": "code",
   "execution_count": 204,
   "metadata": {},
   "outputs": [
    {
     "name": "stdout",
     "output_type": "stream",
     "text": [
      "(0, 2)\n"
     ]
    }
   ],
   "source": [
    "TournamentNameDict\n",
    "TournamentWinsDict\n",
    "Matchesdf = pd.DataFrame(columns = ['P1 Name', 'P2 Name'])\n",
    "print(Matchesdf.shape)\n",
    "numb = 5\n",
    "pathy = '//*[@id=\"scoresResultsContent\"]/div/table/tbody['+str(numb)+']/tr'\n",
    "for name in ['ABN','Dubai', 'Abierto']:\n",
    "    url = TournamentNameDict[name]\n",
    "    for j in range(5,0,-1):\n",
    "        rowLen = 10\n",
    "        pathy = '//*[@id=\"scoresResultsContent\"]/div/table/tbody[' + str(j)+ ']/tr'\n",
    "        testdf = webScrapeTable(url, pathy, rowLen)\n",
    "        Tourndf = headToData(testdf)\n",
    "        Tourndf.columns = ['BS', 'P1 Seeding', 'P1 Name', 'Defeats', 'P2 Seeding', 'P2 Name', 'Score', 'BS2', 'BS3']\n",
    "        Tourndf = Tourndf[['P1 Name', 'P2 Name']]\n",
    "        #print(Tourndf.head())\n",
    "        shapeTup = Tourndf.shape\n",
    "        for i in range(shapeTup[0]):\n",
    "            Matchesdf = Matchesdf.append(Tourndf.iloc[i], ignore_index=True)\n",
    "    #Matchesdf.iloc[0] = Tourndf.iloc[1]"
   ]
  },
  {
   "cell_type": "code",
   "execution_count": 223,
   "metadata": {},
   "outputs": [],
   "source": [
    "dfDim = Matchesdf.shape\n",
    "testdropdf = playerStatdf.drop(['Name'], axis=1)\n",
    "statsdf = pd.DataFrame(columns = ['YTDTitles',\"CareerTitles\", 'CurrentRank', 'MaxRank', 'YTDWins', 'CareerWins', 'Win'])\n",
    "for i in range(dfDim[0]):\n",
    "    if i%2 == 0:\n",
    "        P1 = str(Matchesdf.iloc[i][0]) #P1 wins\n",
    "        P2 = str(Matchesdf.iloc[i][1])\n",
    "        P1 = P1.strip()\n",
    "        P2 = P2.strip()\n",
    "        newRow = []\n",
    "        k = 0\n",
    "        for j in testdropdf.columns:\n",
    "            newRow.append(int(testdropdf.loc[P1][j]) - int(testdropdf.loc[P2][j]))\n",
    "            k+=1\n",
    "        newRow.append(1)\n",
    "        statsdf.loc[i] = newRow\n",
    "    elif i%2 == 1:\n",
    "        P1 = str(Matchesdf.iloc[i][1]) #P1 loses\n",
    "        P2 = str(Matchesdf.iloc[i][0])\n",
    "        P1 = P1.strip()\n",
    "        P2 = P2.strip()\n",
    "        newRow = []\n",
    "        k = 0\n",
    "        for j in testdropdf.columns:\n",
    "            newRow.append(int(testdropdf.loc[P1][j]) - int(testdropdf.loc[P2][j]))\n",
    "            k+=1\n",
    "        newRow.append(0)\n",
    "        statsdf.loc[i] = newRow"
   ]
  },
  {
   "cell_type": "code",
   "execution_count": 224,
   "metadata": {},
   "outputs": [
    {
     "data": {
      "text/html": [
       "<div>\n",
       "<style scoped>\n",
       "    .dataframe tbody tr th:only-of-type {\n",
       "        vertical-align: middle;\n",
       "    }\n",
       "\n",
       "    .dataframe tbody tr th {\n",
       "        vertical-align: top;\n",
       "    }\n",
       "\n",
       "    .dataframe thead th {\n",
       "        text-align: right;\n",
       "    }\n",
       "</style>\n",
       "<table border=\"1\" class=\"dataframe\">\n",
       "  <thead>\n",
       "    <tr style=\"text-align: right;\">\n",
       "      <th></th>\n",
       "      <th>YTDTitles</th>\n",
       "      <th>CareerTitles</th>\n",
       "      <th>CurrentRank</th>\n",
       "      <th>MaxRank</th>\n",
       "      <th>YTDWins</th>\n",
       "      <th>CareerWins</th>\n",
       "      <th>Win</th>\n",
       "    </tr>\n",
       "  </thead>\n",
       "  <tbody>\n",
       "    <tr>\n",
       "      <td>0</td>\n",
       "      <td>0</td>\n",
       "      <td>-7</td>\n",
       "      <td>88</td>\n",
       "      <td>21</td>\n",
       "      <td>0</td>\n",
       "      <td>-26</td>\n",
       "      <td>1</td>\n",
       "    </tr>\n",
       "    <tr>\n",
       "      <td>1</td>\n",
       "      <td>-1</td>\n",
       "      <td>-4</td>\n",
       "      <td>23</td>\n",
       "      <td>23</td>\n",
       "      <td>-3</td>\n",
       "      <td>-74</td>\n",
       "      <td>0</td>\n",
       "    </tr>\n",
       "    <tr>\n",
       "      <td>2</td>\n",
       "      <td>2</td>\n",
       "      <td>7</td>\n",
       "      <td>-56</td>\n",
       "      <td>-22</td>\n",
       "      <td>16</td>\n",
       "      <td>296</td>\n",
       "      <td>1</td>\n",
       "    </tr>\n",
       "    <tr>\n",
       "      <td>3</td>\n",
       "      <td>0</td>\n",
       "      <td>-2</td>\n",
       "      <td>159</td>\n",
       "      <td>26</td>\n",
       "      <td>-8</td>\n",
       "      <td>-45</td>\n",
       "      <td>0</td>\n",
       "    </tr>\n",
       "    <tr>\n",
       "      <td>4</td>\n",
       "      <td>0</td>\n",
       "      <td>-5</td>\n",
       "      <td>4</td>\n",
       "      <td>-1</td>\n",
       "      <td>5</td>\n",
       "      <td>-234</td>\n",
       "      <td>1</td>\n",
       "    </tr>\n",
       "  </tbody>\n",
       "</table>\n",
       "</div>"
      ],
      "text/plain": [
       "  YTDTitles CareerTitles CurrentRank MaxRank YTDWins CareerWins Win\n",
       "0         0           -7          88      21       0        -26   1\n",
       "1        -1           -4          23      23      -3        -74   0\n",
       "2         2            7         -56     -22      16        296   1\n",
       "3         0           -2         159      26      -8        -45   0\n",
       "4         0           -5           4      -1       5       -234   1"
      ]
     },
     "execution_count": 224,
     "metadata": {},
     "output_type": "execute_result"
    }
   ],
   "source": [
    "statsdf.head()"
   ]
  },
  {
   "cell_type": "code",
   "execution_count": 226,
   "metadata": {},
   "outputs": [],
   "source": [
    "import pylab as pl\n",
    "import scipy.optimize as opt\n",
    "from sklearn import preprocessing\n",
    "import matplotlib.pyplot as plt"
   ]
  },
  {
   "cell_type": "code",
   "execution_count": 240,
   "metadata": {},
   "outputs": [
    {
     "data": {
      "text/plain": [
       "array([[   0,   -7,   88,   21,    0,  -26],\n",
       "       [  -1,   -4,   23,   23,   -3,  -74],\n",
       "       [   2,    7,  -56,  -22,   16,  296],\n",
       "       [   0,   -2,  159,   26,   -8,  -45],\n",
       "       [   0,   -5,    4,   -1,    5, -234]])"
      ]
     },
     "execution_count": 240,
     "metadata": {},
     "output_type": "execute_result"
    }
   ],
   "source": [
    "X = np.asarray(statsdf[['YTDTitles', 'CareerTitles', 'CurrentRank', 'MaxRank', 'YTDWins', 'CareerWins']])\n",
    "X=X.astype('int')\n",
    "X[0:5]"
   ]
  },
  {
   "cell_type": "code",
   "execution_count": 239,
   "metadata": {},
   "outputs": [
    {
     "data": {
      "text/plain": [
       "array([1, 0, 1, 0, 1])"
      ]
     },
     "execution_count": 239,
     "metadata": {},
     "output_type": "execute_result"
    }
   ],
   "source": [
    "y = np.asarray(statsdf['Win'])\n",
    "y=y.astype('int')\n",
    "y [0:5]"
   ]
  },
  {
   "cell_type": "code",
   "execution_count": 241,
   "metadata": {},
   "outputs": [
    {
     "data": {
      "text/plain": [
       "array([[-0.10174852, -0.31522552,  0.76578247,  0.37785751, -0.02778973,\n",
       "        -0.14200576],\n",
       "       [-1.15314986, -0.20174433,  0.23740043,  0.40907986, -0.48386817,\n",
       "        -0.28756574],\n",
       "       [ 2.00105417,  0.21435335, -0.40478697, -0.29342289,  2.40462864,\n",
       "         0.83445912],\n",
       "       [-0.10174852, -0.12609021,  1.34293823,  0.45591338, -1.24399891,\n",
       "        -0.19962326],\n",
       "       [-0.10174852, -0.23957139,  0.0829503 ,  0.03441172,  0.73234101,\n",
       "        -0.77276569]])"
      ]
     },
     "execution_count": 241,
     "metadata": {},
     "output_type": "execute_result"
    }
   ],
   "source": [
    "from sklearn import preprocessing\n",
    "X = preprocessing.StandardScaler().fit(X).transform(X)\n",
    "X[0:5]"
   ]
  },
  {
   "cell_type": "code",
   "execution_count": 242,
   "metadata": {},
   "outputs": [
    {
     "name": "stdout",
     "output_type": "stream",
     "text": [
      "Train set: (74, 6) (74,)\n",
      "Test set: (19, 6) (19,)\n"
     ]
    }
   ],
   "source": [
    "from sklearn.model_selection import train_test_split\n",
    "X_train, X_test, y_train, y_test = train_test_split( X, y, test_size=0.2, random_state=4)\n",
    "print ('Train set:', X_train.shape,  y_train.shape)\n",
    "print ('Test set:', X_test.shape,  y_test.shape)"
   ]
  },
  {
   "cell_type": "code",
   "execution_count": 243,
   "metadata": {},
   "outputs": [
    {
     "data": {
      "text/plain": [
       "LogisticRegression(C=0.01, class_weight=None, dual=False, fit_intercept=True,\n",
       "                   intercept_scaling=1, l1_ratio=None, max_iter=100,\n",
       "                   multi_class='warn', n_jobs=None, penalty='l2',\n",
       "                   random_state=None, solver='saga', tol=0.0001, verbose=0,\n",
       "                   warm_start=False)"
      ]
     },
     "execution_count": 243,
     "metadata": {},
     "output_type": "execute_result"
    }
   ],
   "source": [
    "from sklearn.linear_model import LogisticRegression\n",
    "from sklearn.metrics import confusion_matrix\n",
    "LR = LogisticRegression(C=0.01, solver='saga').fit(X_train,y_train)\n",
    "LR"
   ]
  },
  {
   "cell_type": "code",
   "execution_count": 244,
   "metadata": {},
   "outputs": [
    {
     "data": {
      "text/plain": [
       "array([0, 0, 1, 1, 0, 0, 0, 1, 0, 1, 0, 0, 1, 1, 0, 1, 1, 1, 1])"
      ]
     },
     "execution_count": 244,
     "metadata": {},
     "output_type": "execute_result"
    }
   ],
   "source": [
    "yhat = LR.predict(X_test)\n",
    "yhat"
   ]
  },
  {
   "cell_type": "code",
   "execution_count": 245,
   "metadata": {},
   "outputs": [
    {
     "data": {
      "text/plain": [
       "array([[0.63774907, 0.36225093],\n",
       "       [0.50761225, 0.49238775],\n",
       "       [0.45335537, 0.54664463],\n",
       "       [0.45557668, 0.54442332],\n",
       "       [0.50131068, 0.49868932],\n",
       "       [0.50199032, 0.49800968],\n",
       "       [0.73687462, 0.26312538],\n",
       "       [0.47059764, 0.52940236],\n",
       "       [0.60225118, 0.39774882],\n",
       "       [0.42850909, 0.57149091],\n",
       "       [0.56526352, 0.43473648],\n",
       "       [0.52736984, 0.47263016],\n",
       "       [0.46951408, 0.53048592],\n",
       "       [0.45143502, 0.54856498],\n",
       "       [0.54229733, 0.45770267],\n",
       "       [0.3915329 , 0.6084671 ],\n",
       "       [0.38475345, 0.61524655],\n",
       "       [0.31353493, 0.68646507],\n",
       "       [0.46489411, 0.53510589]])"
      ]
     },
     "execution_count": 245,
     "metadata": {},
     "output_type": "execute_result"
    }
   ],
   "source": [
    "yhat_prob = LR.predict_proba(X_test)\n",
    "yhat_prob"
   ]
  },
  {
   "cell_type": "code",
   "execution_count": 246,
   "metadata": {},
   "outputs": [
    {
     "name": "stderr",
     "output_type": "stream",
     "text": [
      "C:\\Users\\Tyler\\Anaconda3\\lib\\site-packages\\sklearn\\metrics\\classification.py:635: DeprecationWarning: jaccard_similarity_score has been deprecated and replaced with jaccard_score. It will be removed in version 0.23. This implementation has surprising behavior for binary and multiclass classification tasks.\n",
      "  'and multiclass classification tasks.', DeprecationWarning)\n"
     ]
    },
    {
     "data": {
      "text/plain": [
       "0.7894736842105263"
      ]
     },
     "execution_count": 246,
     "metadata": {},
     "output_type": "execute_result"
    }
   ],
   "source": [
    "from sklearn.metrics import jaccard_similarity_score\n",
    "jaccard_similarity_score(y_test, yhat)"
   ]
  },
  {
   "cell_type": "code",
   "execution_count": 247,
   "metadata": {},
   "outputs": [
    {
     "name": "stdout",
     "output_type": "stream",
     "text": [
      "[[8 2]\n",
      " [2 7]]\n"
     ]
    }
   ],
   "source": [
    "from sklearn.metrics import classification_report, confusion_matrix\n",
    "import itertools\n",
    "def plot_confusion_matrix(cm, classes,\n",
    "                          normalize=False,\n",
    "                          title='Confusion matrix',\n",
    "                          cmap=plt.cm.Blues):\n",
    "    \"\"\"\n",
    "    This function prints and plots the confusion matrix.\n",
    "    Normalization can be applied by setting `normalize=True`.\n",
    "    \"\"\"\n",
    "    if normalize:\n",
    "        cm = cm.astype('float') / cm.sum(axis=1)[:, np.newaxis]\n",
    "        print(\"Normalized confusion matrix\")\n",
    "    else:\n",
    "        print('Confusion matrix, without normalization')\n",
    "\n",
    "    print(cm)\n",
    "\n",
    "    plt.imshow(cm, interpolation='nearest', cmap=cmap)\n",
    "    plt.title(title)\n",
    "    plt.colorbar()\n",
    "    tick_marks = np.arange(len(classes))\n",
    "    plt.xticks(tick_marks, classes, rotation=45)\n",
    "    plt.yticks(tick_marks, classes)\n",
    "\n",
    "    fmt = '.2f' if normalize else 'd'\n",
    "    thresh = cm.max() / 2.\n",
    "    for i, j in itertools.product(range(cm.shape[0]), range(cm.shape[1])):\n",
    "        plt.text(j, i, format(cm[i, j], fmt),\n",
    "                 horizontalalignment=\"center\",\n",
    "                 color=\"white\" if cm[i, j] > thresh else \"black\")\n",
    "\n",
    "    plt.tight_layout()\n",
    "    plt.ylabel('True label')\n",
    "    plt.xlabel('Predicted label')\n",
    "print(confusion_matrix(y_test, yhat, labels=[1,0]))"
   ]
  },
  {
   "cell_type": "code",
   "execution_count": 46,
   "metadata": {},
   "outputs": [],
   "source": [
    "class Player:\n",
    "    def __init__(self, name, age, country, hard, clay, grass, twolevel, fivelevel, thoulevel, grandslam):\n",
    "        self.name = name\n",
    "        self.age = age\n",
    "        self.country = country\n",
    "        self.hard = hard\n",
    "        self.clay = clay\n",
    "        self.grass = grass\n",
    "        self.twolevel = twolevel\n",
    "        self.fivelevel = fivelevel\n",
    "        self.thoulevel = thoulevel\n",
    "        self.grandslam = grandslam"
   ]
  },
  {
   "cell_type": "code",
   "execution_count": 47,
   "metadata": {},
   "outputs": [
    {
     "ename": "TypeError",
     "evalue": "__init__() missing 7 required positional arguments: 'hard', 'clay', 'grass', 'twolevel', 'fivelevel', 'thoulevel', and 'grandslam'",
     "output_type": "error",
     "traceback": [
      "\u001b[1;31m---------------------------------------------------------------------------\u001b[0m",
      "\u001b[1;31mTypeError\u001b[0m                                 Traceback (most recent call last)",
      "\u001b[1;32m<ipython-input-47-ae9c262afd19>\u001b[0m in \u001b[0;36m<module>\u001b[1;34m\u001b[0m\n\u001b[1;32m----> 1\u001b[1;33m \u001b[0mGuy\u001b[0m \u001b[1;33m=\u001b[0m \u001b[0mPlayer\u001b[0m\u001b[1;33m(\u001b[0m\u001b[1;34m'name'\u001b[0m\u001b[1;33m,\u001b[0m \u001b[1;36m21\u001b[0m\u001b[1;33m,\u001b[0m \u001b[1;34m'usa'\u001b[0m\u001b[1;33m)\u001b[0m\u001b[1;33m\u001b[0m\u001b[1;33m\u001b[0m\u001b[0m\n\u001b[0m",
      "\u001b[1;31mTypeError\u001b[0m: __init__() missing 7 required positional arguments: 'hard', 'clay', 'grass', 'twolevel', 'fivelevel', 'thoulevel', and 'grandslam'"
     ]
    }
   ],
   "source": [
    "Guy = Player('name', 21, 'usa')"
   ]
  },
  {
   "cell_type": "code",
   "execution_count": null,
   "metadata": {},
   "outputs": [],
   "source": []
  }
 ],
 "metadata": {
  "kernelspec": {
   "display_name": "Python 3",
   "language": "python",
   "name": "python3"
  },
  "language_info": {
   "codemirror_mode": {
    "name": "ipython",
    "version": 3
   },
   "file_extension": ".py",
   "mimetype": "text/x-python",
   "name": "python",
   "nbconvert_exporter": "python",
   "pygments_lexer": "ipython3",
   "version": "3.7.4"
  }
 },
 "nbformat": 4,
 "nbformat_minor": 2
}
